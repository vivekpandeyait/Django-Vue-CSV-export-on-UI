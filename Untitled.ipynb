{
 "cells": [
  {
   "cell_type": "code",
   "execution_count": 10,
   "metadata": {},
   "outputs": [
    {
     "name": "stdout",
     "output_type": "stream",
     "text": [
      "   SC_CODE       SC_NAME SC_GROUP SC_TYPE    OPEN    HIGH     LOW    CLOSE  \\\n",
      "0   500002  ABB LTD.           A        Q  1435.0  1485.3  1429.1  1475.15   \n",
      "\n",
      "     LAST  PREVCLOSE  NO_TRADES  NO_OF_SHRS  NET_TURNOV  TDCLOINDI  \n",
      "0  1476.0     1421.0       1218       17223  24950530.0        NaN  \n"
     ]
    }
   ],
   "source": [
    "import pandas as pd\n",
    "df = pd.read_csv(\"C:/Users/OM SAI RAM/Desktop/mysite/mysite/vue_app/vivek.CSV\")\n",
    "\n",
    "print(df[df['OPEN']==1435])"
   ]
  },
  {
   "cell_type": "code",
   "execution_count": null,
   "metadata": {},
   "outputs": [],
   "source": []
  },
  {
   "cell_type": "code",
   "execution_count": null,
   "metadata": {},
   "outputs": [],
   "source": []
  }
 ],
 "metadata": {
  "kernelspec": {
   "display_name": "Python 3",
   "language": "python",
   "name": "python3"
  },
  "language_info": {
   "codemirror_mode": {
    "name": "ipython",
    "version": 3
   },
   "file_extension": ".py",
   "mimetype": "text/x-python",
   "name": "python",
   "nbconvert_exporter": "python",
   "pygments_lexer": "ipython3",
   "version": "3.7.4"
  }
 },
 "nbformat": 4,
 "nbformat_minor": 2
}
